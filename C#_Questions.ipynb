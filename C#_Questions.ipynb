{
 "cells": [
  {
   "cell_type": "markdown",
   "id": "b642cce5",
   "metadata": {},
   "source": [
    "# Question 1 C#"
   ]
  },
  {
   "cell_type": "markdown",
   "id": "7fad1863",
   "metadata": {},
   "source": [
    "5 - Integer\n",
    "\n",
    "5.0 - Double\n",
    "\n",
    "5>1 - Boolean\n",
    "\n",
    "'5' - Character\n",
    "\n",
    "5*2 - Integer\n",
    "\n",
    "'5'*2 - Integer\n",
    "\n",
    "'5'+'2' - Integer\n",
    "\n",
    "5/2 - Float\n",
    "\n",
    "5%2 - Integer\n",
    "\n",
    "{5,2,1} - Array (Integer type)\n",
    "\n",
    "5 == 3 - Boolean\n",
    "\n",
    "Pi(the number) - Double"
   ]
  },
  {
   "cell_type": "markdown",
   "id": "724cfe54",
   "metadata": {},
   "source": [
    "# Question 2 C#"
   ]
  },
  {
   "cell_type": "markdown",
   "id": "d0f8fe3f",
   "metadata": {},
   "source": [
    "(a) part"
   ]
  },
  {
   "cell_type": "code",
   "execution_count": 96,
   "id": "f031258e",
   "metadata": {},
   "outputs": [
    {
     "name": "stdout",
     "output_type": "stream",
     "text": [
      "34\r\n"
     ]
    }
   ],
   "source": [
    "String word1 = \"Supercalifragilisticexpialidocious\";\n",
    "int length_word1= word1.Length;\n",
    "\n",
    "Console.WriteLine(length_word1);\n"
   ]
  },
  {
   "cell_type": "markdown",
   "id": "90db8832",
   "metadata": {},
   "source": [
    "(b) part"
   ]
  },
  {
   "cell_type": "code",
   "execution_count": 97,
   "id": "fbbc67ae",
   "metadata": {},
   "outputs": [
    {
     "name": "stdout",
     "output_type": "stream",
     "text": [
      "True\r\n"
     ]
    }
   ],
   "source": [
    "String sub_string = \"ice\";\n",
    "\n",
    "Console.WriteLine(word1.Contains(sub_string));\n"
   ]
  },
  {
   "cell_type": "markdown",
   "id": "358a0f61",
   "metadata": {},
   "source": [
    "(c) part"
   ]
  },
  {
   "cell_type": "code",
   "execution_count": 98,
   "id": "74d20c66",
   "metadata": {},
   "outputs": [
    {
     "name": "stdout",
     "output_type": "stream",
     "text": [
      "The word1 and word 3 are of same length and hence longest words among all three :- \n",
      "Supercalifragilisticexpialidocious\n",
      "Bababadalgharaghtakamminarronnkonn\r\n"
     ]
    }
   ],
   "source": [
    "String word2 = \"Honorificabilitudinitatibus\";\n",
    "String word3 = \"Bababadalgharaghtakamminarronnkonn\";\n",
    "\n",
    "int length_word2 = word2.Length;\n",
    "int length_word3 = word3.Length;\n",
    "\n",
    "if (length_word1 > length_word2)\n",
    "{\n",
    "    if (length_word1 >= length_word3)\n",
    "    {\n",
    "//         Console.WriteLine(\"The longest word among all three is- \" + word1);\n",
    "        if (length_word1 == length_word3)\n",
    "        {\n",
    "            Console.WriteLine(\"The word1 and word 3 are of same length and hence longest words among all three :- \" +\"\\n\"+ word1 +\"\\n\"+ word3);\n",
    "        }\n",
    "        else\n",
    "        {\n",
    "            Console.WriteLine(\"The longest word among all three is- \" + word1);\n",
    "        }\n",
    "    }\n",
    "    else\n",
    "    {\n",
    "        Console.WriteLine(\"The longest word among all three is- \" + word3);\n",
    "    }\n",
    "}\n",
    "else\n",
    "{\n",
    "    if(length_word2  > length_word3)\n",
    "    {\n",
    "        Console.WriteLine(\"The longest word among all three is- \" + word2);\n",
    "    }\n",
    "    else\n",
    "    {\n",
    "        Console.WriteLine(\"The longest word among all three is- \" + word3);\n",
    "    }\n",
    "}"
   ]
  },
  {
   "cell_type": "markdown",
   "id": "10a638b2",
   "metadata": {},
   "source": [
    "(d) part"
   ]
  },
  {
   "cell_type": "code",
   "execution_count": 99,
   "id": "4f64c0bf",
   "metadata": {},
   "outputs": [
    {
     "name": "stdout",
     "output_type": "stream",
     "text": [
      "First-Bartok\n",
      "Last-Buxtehude\n"
     ]
    }
   ],
   "source": [
    "SortedSet <string> n = new SortedSet<string>();\n",
    "n.Add(\"Berlioz\");\n",
    "n.Add(\"Borodin\");\n",
    "n.Add(\"Brian\");\n",
    "n.Add(\"Bartok\");\n",
    "n.Add(\"Bellini\");\n",
    "n.Add(\"Buxtehude\");\n",
    "n.Add(\"Bernstein\");\n",
    "\n",
    "Console.WriteLine(\"First-\"+n.First());\n",
    "Console.WriteLine(\"Last-\"+n.Last());"
   ]
  },
  {
   "cell_type": "markdown",
   "id": "86dcbd8d",
   "metadata": {},
   "source": [
    "# Question 3 C#"
   ]
  },
  {
   "cell_type": "code",
   "execution_count": 100,
   "id": "1ba70b7f",
   "metadata": {},
   "outputs": [
    {
     "name": "stdout",
     "output_type": "stream",
     "text": [
      "1.7320508075688772"
     ]
    }
   ],
   "source": [
    "double triangleArea(float a, float b, float c)\n",
    "{\n",
    "    float s = (a+b+c)/2;\n",
    "    return Math.Sqrt(s*(s-a)*(s-b)*(s-c));\n",
    "}\n",
    "Console.Write(triangleArea(2,2,2));"
   ]
  },
  {
   "cell_type": "markdown",
   "id": "10cb12f1",
   "metadata": {},
   "source": [
    "# Question 4 C#"
   ]
  },
  {
   "cell_type": "code",
   "execution_count": 101,
   "id": "cd83a17f",
   "metadata": {},
   "outputs": [
    {
     "name": "stdout",
     "output_type": "stream",
     "text": [
      "Enter the number of items which you want to be stored in the array: \n",
      "Enter 0 items in the array \n",
      "The even items in the array are\n",
      "The odd elements in the array are\n"
     ]
    }
   ],
   "source": [
    "Console.WriteLine(\"Enter the number of items which you want to be stored in the array: \");\n",
    "\n",
    "int a = Convert.ToInt32(Console.ReadLine());\n",
    "int[] arr = new int[a];\n",
    "\n",
    "Console.WriteLine($\"Enter {a} items in the array \");\n",
    "\n",
    "for(int i = 0; i<a; i++)\n",
    "{\n",
    "    Console.WriteLine($\"element - {i} : \");\n",
    "    arr[i] = Convert.ToInt32(Console.ReadLine());\n",
    "}\n",
    "\n",
    "int Even_Index = 0;\n",
    "int Odd_Index = 0;\n",
    "\n",
    "int[] Even_Array = new int[a];\n",
    "int[] Odd_Array = new int[a];\n",
    "\n",
    "foreach (int i in arr)\n",
    "{\n",
    "    if(i%2 == 0)\n",
    "    {\n",
    "        Even_Array[Even_Index] = i;\n",
    "        Even_Index++;\n",
    "    }\n",
    "    else\n",
    "    {\n",
    "        Odd_Array[Odd_Index] = i;\n",
    "        Odd_Index++;\n",
    "    }\n",
    "}\n",
    "\n",
    "Array.Resize(ref Even_Array, Even_Index);\n",
    "Array.Resize(ref Odd_Array, Odd_Index);\n",
    "\n",
    "Console.WriteLine(\"The even items in the array are\");\n",
    "printArray(Even_Array);\n",
    "\n",
    "Console.WriteLine(\"The odd elements in the array are\");\n",
    "printArray(Odd_Array);\n",
    "\n",
    "void printArray(int[] array)\n",
    "{\n",
    "    foreach (int i in arr)\n",
    "    {\n",
    "        Console.Write(i+\" \");\n",
    "    }\n",
    "}"
   ]
  },
  {
   "cell_type": "markdown",
   "id": "f4ebe3b8",
   "metadata": {},
   "source": [
    "# Question 5 C#"
   ]
  },
  {
   "cell_type": "markdown",
   "id": "affc5b51",
   "metadata": {},
   "source": [
    "(a) part"
   ]
  },
  {
   "cell_type": "code",
   "execution_count": 102,
   "id": "20a7812f",
   "metadata": {},
   "outputs": [
    {
     "name": "stdout",
     "output_type": "stream",
     "text": [
      "True\n",
      "False\n"
     ]
    }
   ],
   "source": [
    "string inside(double x, double y, double x1, double y1, double x2, double y2)\n",
    "{\n",
    "    if (x >= x1 && x <= x2 && y >= y1 && y <= y2) \n",
    "        return \"True\";\n",
    "    else \n",
    "        return \"False\";\n",
    "}\n",
    "\n",
    "Console.WriteLine(inside(1,1,0,0,2,3));\n",
    "Console.WriteLine(inside(-1,-1,0,0,2,3));\n"
   ]
  },
  {
   "cell_type": "markdown",
   "id": "d2cfaea7",
   "metadata": {},
   "source": [
    "(b) part"
   ]
  },
  {
   "cell_type": "code",
   "execution_count": 103,
   "id": "b024e921",
   "metadata": {},
   "outputs": [
    {
     "name": "stdout",
     "output_type": "stream",
     "text": [
      "False\n",
      "True\n"
     ]
    }
   ],
   "source": [
    "Console.WriteLine(inside(1,1,0.3,0.5,1.1,0.7));\n",
    "Console.WriteLine(inside(1,1,0.5,0.2,1.1,2));\n"
   ]
  }
 ],
 "metadata": {
  "kernelspec": {
   "display_name": ".NET (C#)",
   "language": "C#",
   "name": ".net-csharp"
  },
  "language_info": {
   "file_extension": ".cs",
   "mimetype": "text/x-csharp",
   "name": "C#",
   "pygments_lexer": "csharp",
   "version": "8.0"
  }
 },
 "nbformat": 4,
 "nbformat_minor": 5
}
