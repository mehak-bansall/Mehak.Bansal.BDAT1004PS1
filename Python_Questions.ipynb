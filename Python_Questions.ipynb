{
 "cells": [
  {
   "cell_type": "markdown",
   "id": "5de1b32f",
   "metadata": {},
   "source": [
    "# Question 6 Python"
   ]
  },
  {
   "cell_type": "code",
   "execution_count": 1,
   "id": "13b3e9ec",
   "metadata": {},
   "outputs": [
    {
     "name": "stdout",
     "output_type": "stream",
     "text": [
      "Enter Your Word : happy\n",
      "appyhay\n",
      "Enter Your Word : Enter\n",
      "enterway\n"
     ]
    }
   ],
   "source": [
    "# Making a list having vowels as its items\n",
    "Vowels = ['a','e','i','o','u','A','E','I','O','U']\n",
    "# Defining a function named pig \n",
    "def pig():\n",
    "#     Taking input of any word from the user\n",
    "    word = str(input('Enter Your Word : '))\n",
    "    \n",
    "#     Applying condition using the for loop\n",
    "    if word[0] in Vowels:\n",
    "        word1 = word.lower()\n",
    "        print(word1+'way')\n",
    "    else:\n",
    "        word1 = word.lower()\n",
    "        print(word1[1:]+word1[0]+'ay')\n",
    "        \n",
    "# Calling the function\n",
    "pig()\n",
    "pig()"
   ]
  },
  {
   "cell_type": "markdown",
   "id": "15cdabf2",
   "metadata": {},
   "source": [
    "# Question 7 Python"
   ]
  },
  {
   "cell_type": "code",
   "execution_count": 26,
   "id": "c3de8bc9",
   "metadata": {},
   "outputs": [
    {
     "name": "stdout",
     "output_type": "stream",
     "text": [
      "There are 15 patients of blood type A\n",
      "There are 1 patients of blood type B\n",
      "There are 13 patients of blood type AB\n",
      "There are 15 patients of blood type O\n",
      "There are 0 patients of blood type OO\n"
     ]
    }
   ],
   "source": [
    "def b1dcount(name_of_file):\n",
    "    \n",
    "    blood_types = ['A','B','AB','O','OO']\n",
    "    step1 = open(name_of_file,\"r\")\n",
    "    step2 = step1.read().split()\n",
    "    \n",
    "    for i in blood_types:\n",
    "        a = step2.count(i)\n",
    "        b = i\n",
    "        print(\"There are {} patients of blood type {}\".format(a,b))\n",
    "\n",
    "b1dcount(\"bloodtype1.txt\")\n",
    "    "
   ]
  },
  {
   "cell_type": "markdown",
   "id": "2a8653af",
   "metadata": {},
   "source": [
    "# Question 8 Python"
   ]
  },
  {
   "cell_type": "code",
   "execution_count": 35,
   "id": "13824f80",
   "metadata": {},
   "outputs": [
    {
     "name": "stdout",
     "output_type": "stream",
     "text": [
      "122.96544\n",
      "1.241401\n"
     ]
    }
   ],
   "source": [
    "f = open('currencies.txt','r')\n",
    "g = f.readlines()\n",
    "\n",
    "LineValues = []\n",
    "\n",
    "for i in range(len(g)):\n",
    "    LineValues.append(g[i].split())\n",
    "    \n",
    "dictionary = {}\n",
    "\n",
    "for line in LineValues:\n",
    "    dictionary[line[0]] = float(line[1])\n",
    "        \n",
    "def curconv(cur,amount):\n",
    "    return amount*dictionary[cur]\n",
    "    \n",
    "print(curconv(\"EUR\",100))\n",
    "print(curconv(\"JPY\",100))"
   ]
  },
  {
   "cell_type": "markdown",
   "id": "6608bbe8",
   "metadata": {},
   "source": [
    "# Question 9 Python"
   ]
  },
  {
   "cell_type": "markdown",
   "id": "5049d2bb",
   "metadata": {},
   "source": [
    "(a) part - TypeError"
   ]
  },
  {
   "cell_type": "code",
   "execution_count": 8,
   "id": "5feafd86",
   "metadata": {},
   "outputs": [
    {
     "ename": "TypeError",
     "evalue": "unsupported operand type(s) for +: 'int' and 'str'",
     "output_type": "error",
     "traceback": [
      "\u001b[1;31m---------------------------------------------------------------------------\u001b[0m",
      "\u001b[1;31mTypeError\u001b[0m                                 Traceback (most recent call last)",
      "Input \u001b[1;32mIn [8]\u001b[0m, in \u001b[0;36m<cell line: 1>\u001b[1;34m()\u001b[0m\n\u001b[1;32m----> 1\u001b[0m \u001b[38;5;241;43m6\u001b[39;49m\u001b[38;5;241;43m+\u001b[39;49m\u001b[38;5;124;43m'\u001b[39;49m\u001b[38;5;124;43ma\u001b[39;49m\u001b[38;5;124;43m'\u001b[39;49m\n",
      "\u001b[1;31mTypeError\u001b[0m: unsupported operand type(s) for +: 'int' and 'str'"
     ]
    }
   ],
   "source": [
    "6+'a'"
   ]
  },
  {
   "cell_type": "markdown",
   "id": "d9525169",
   "metadata": {},
   "source": [
    "(b)part - IndexError"
   ]
  },
  {
   "cell_type": "code",
   "execution_count": 11,
   "id": "96492ce7",
   "metadata": {},
   "outputs": [
    {
     "ename": "IndexError",
     "evalue": "list index out of range",
     "output_type": "error",
     "traceback": [
      "\u001b[1;31m---------------------------------------------------------------------------\u001b[0m",
      "\u001b[1;31mIndexError\u001b[0m                                Traceback (most recent call last)",
      "Input \u001b[1;32mIn [11]\u001b[0m, in \u001b[0;36m<cell line: 2>\u001b[1;34m()\u001b[0m\n\u001b[0;32m      1\u001b[0m a\u001b[38;5;241m=\u001b[39m[\u001b[38;5;241m0\u001b[39m,\u001b[38;5;241m1\u001b[39m,\u001b[38;5;241m2\u001b[39m,\u001b[38;5;241m3\u001b[39m,\u001b[38;5;241m4\u001b[39m,\u001b[38;5;241m5\u001b[39m,\u001b[38;5;241m6\u001b[39m,\u001b[38;5;241m7\u001b[39m,\u001b[38;5;241m8\u001b[39m,\u001b[38;5;241m9\u001b[39m]\n\u001b[1;32m----> 2\u001b[0m \u001b[43ma\u001b[49m\u001b[43m[\u001b[49m\u001b[38;5;241;43m12\u001b[39;49m\u001b[43m]\u001b[49m\n",
      "\u001b[1;31mIndexError\u001b[0m: list index out of range"
     ]
    }
   ],
   "source": [
    "a=[0,1,2,3,4,5,6,7,8,9]\n",
    "a[12]"
   ]
  },
  {
   "cell_type": "markdown",
   "id": "3b78e26d",
   "metadata": {},
   "source": [
    "(c) part - ValueError"
   ]
  },
  {
   "cell_type": "code",
   "execution_count": 12,
   "id": "6ec2a627",
   "metadata": {},
   "outputs": [
    {
     "ename": "ValueError",
     "evalue": "math domain error",
     "output_type": "error",
     "traceback": [
      "\u001b[1;31m---------------------------------------------------------------------------\u001b[0m",
      "\u001b[1;31mValueError\u001b[0m                                Traceback (most recent call last)",
      "Input \u001b[1;32mIn [12]\u001b[0m, in \u001b[0;36m<cell line: 2>\u001b[1;34m()\u001b[0m\n\u001b[0;32m      1\u001b[0m \u001b[38;5;28;01mimport\u001b[39;00m \u001b[38;5;21;01mmath\u001b[39;00m \u001b[38;5;28;01mas\u001b[39;00m \u001b[38;5;21;01mmt\u001b[39;00m\n\u001b[1;32m----> 2\u001b[0m a\u001b[38;5;241m=\u001b[39m \u001b[43mmt\u001b[49m\u001b[38;5;241;43m.\u001b[39;49m\u001b[43msqrt\u001b[49m\u001b[43m(\u001b[49m\u001b[38;5;241;43m-\u001b[39;49m\u001b[38;5;241;43m1.0\u001b[39;49m\u001b[43m)\u001b[49m\n\u001b[0;32m      3\u001b[0m a\n",
      "\u001b[1;31mValueError\u001b[0m: math domain error"
     ]
    }
   ],
   "source": [
    "import math as mt\n",
    "a= mt.sqrt(-1.0)\n",
    "a"
   ]
  },
  {
   "cell_type": "markdown",
   "id": "7eb5c8a0",
   "metadata": {},
   "source": [
    "(d) part - NameError"
   ]
  },
  {
   "cell_type": "code",
   "execution_count": 13,
   "id": "6bc55c35",
   "metadata": {},
   "outputs": [
    {
     "ename": "NameError",
     "evalue": "name 'x' is not defined",
     "output_type": "error",
     "traceback": [
      "\u001b[1;31m---------------------------------------------------------------------------\u001b[0m",
      "\u001b[1;31mNameError\u001b[0m                                 Traceback (most recent call last)",
      "Input \u001b[1;32mIn [13]\u001b[0m, in \u001b[0;36m<cell line: 2>\u001b[1;34m()\u001b[0m\n\u001b[0;32m      1\u001b[0m y\u001b[38;5;241m=\u001b[39m \u001b[38;5;124m\"\u001b[39m\u001b[38;5;124mPython is interesting\u001b[39m\u001b[38;5;124m\"\u001b[39m\n\u001b[1;32m----> 2\u001b[0m \u001b[38;5;28mprint\u001b[39m(\u001b[43mx\u001b[49m)\n",
      "\u001b[1;31mNameError\u001b[0m: name 'x' is not defined"
     ]
    }
   ],
   "source": [
    "y= \"Python is interesting\"\n",
    "print(x)"
   ]
  },
  {
   "cell_type": "markdown",
   "id": "2e0bf581",
   "metadata": {},
   "source": [
    "(e) part - FileNotFoundError"
   ]
  },
  {
   "cell_type": "code",
   "execution_count": 14,
   "id": "774efa47",
   "metadata": {},
   "outputs": [
    {
     "ename": "FileNotFoundError",
     "evalue": "[Errno 2] No such file or directory: 'currenciesssss.txt'",
     "output_type": "error",
     "traceback": [
      "\u001b[1;31m---------------------------------------------------------------------------\u001b[0m",
      "\u001b[1;31mFileNotFoundError\u001b[0m                         Traceback (most recent call last)",
      "Input \u001b[1;32mIn [14]\u001b[0m, in \u001b[0;36m<cell line: 1>\u001b[1;34m()\u001b[0m\n\u001b[1;32m----> 1\u001b[0m ifile \u001b[38;5;241m=\u001b[39m \u001b[38;5;28;43mopen\u001b[39;49m\u001b[43m(\u001b[49m\u001b[38;5;124;43m'\u001b[39;49m\u001b[38;5;124;43mcurrenciesssss.txt\u001b[39;49m\u001b[38;5;124;43m'\u001b[39;49m\u001b[43m,\u001b[49m\u001b[43m \u001b[49m\u001b[38;5;124;43m'\u001b[39;49m\u001b[38;5;124;43mr\u001b[39;49m\u001b[38;5;124;43m'\u001b[39;49m\u001b[43m)\u001b[49m\n",
      "\u001b[1;31mFileNotFoundError\u001b[0m: [Errno 2] No such file or directory: 'currenciesssss.txt'"
     ]
    }
   ],
   "source": [
    "ifile = open('currenciesssss.txt', 'r')"
   ]
  },
  {
   "cell_type": "markdown",
   "id": "6d2387fd",
   "metadata": {},
   "source": [
    "# Question 10 Python"
   ]
  },
  {
   "cell_type": "code",
   "execution_count": 15,
   "id": "0102f63b",
   "metadata": {},
   "outputs": [
    {
     "name": "stdout",
     "output_type": "stream",
     "text": [
      "[1, 1, 1, 3, 5, 1, 1, 2, 1, 0, 1, 0, 1, 2, 4, 0, 1, 2, 0, 2, 1, 0, 1, 1, 0, 0]\n",
      "[1, 0, 0, 0, 1, 0, 0, 0, 0, 0, 0, 1, 0, 0, 0, 2, 0, 0, 0, 0, 0, 0, 0, 0, 0, 0]\n"
     ]
    }
   ],
   "source": [
    "def frequencies(stringValue):\n",
    "    ans = []\n",
    "    \n",
    "    for i in range(1,27):\n",
    "        ans.append(stringValue.count(chr(i+96)))\n",
    "        \n",
    "    return ans\n",
    "print(frequencies(\"The quick red fox got bored and went home.\"))\n",
    "print(frequencies(\"apple\"))\n"
   ]
  },
  {
   "cell_type": "code",
   "execution_count": null,
   "id": "3006550f",
   "metadata": {},
   "outputs": [],
   "source": []
  }
 ],
 "metadata": {
  "kernelspec": {
   "display_name": "Python 3 (ipykernel)",
   "language": "python",
   "name": "python3"
  },
  "language_info": {
   "codemirror_mode": {
    "name": "ipython",
    "version": 3
   },
   "file_extension": ".py",
   "mimetype": "text/x-python",
   "name": "python",
   "nbconvert_exporter": "python",
   "pygments_lexer": "ipython3",
   "version": "3.9.12"
  }
 },
 "nbformat": 4,
 "nbformat_minor": 5
}
